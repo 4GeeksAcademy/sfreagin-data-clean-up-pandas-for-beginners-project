{
 "cells": [
  {
   "cell_type": "markdown",
   "id": "6c9a1a29",
   "metadata": {},
   "source": [
    "# Basic Python Practices\n",
    "\n",
    "#### Exercise 00. Variable Declaration\n",
    "\n",
    "Define the following variables with values of your choice:\n",
    "\n",
    "- A variable that stores your name (text).\n",
    "- A variable that stores your age (integer).\n",
    "- A variable that indicates if you like programming (true or false).\n",
    "- A variable that stores your average grade (decimal number)."
   ]
  },
  {
   "cell_type": "code",
   "execution_count": 1,
   "id": "04495cc0",
   "metadata": {},
   "outputs": [],
   "source": [
    "# Declare your variables here.\n",
    "name = 'Stephen'\n",
    "age = 37\n",
    "likes_programming = True\n",
    "avg_grade = 4.0\n",
    "#Example\n",
    "greeting = \"Hello world\""
   ]
  },
  {
   "cell_type": "markdown",
   "id": "92b948f4",
   "metadata": {},
   "source": [
    "- Create a list with your five favorite numbers and print it."
   ]
  },
  {
   "cell_type": "code",
   "execution_count": 2,
   "id": "cb7a4019",
   "metadata": {},
   "outputs": [],
   "source": [
    "# Favorite numbers list\n",
    "fav_numbers = [4, 34, 27, 1991, 7]"
   ]
  },
  {
   "cell_type": "markdown",
   "id": "04332f35",
   "metadata": {},
   "source": [
    "- Create a dictionary that stores a student's information and print it:\n",
    "\n",
    "        - Name\n",
    "        - Age\n",
    "        - Final grade"
   ]
  },
  {
   "cell_type": "code",
   "execution_count": 3,
   "id": "7997e8d0",
   "metadata": {},
   "outputs": [
    {
     "data": {
      "text/plain": [
       "{'name': 'Stephen', 'age': 37, 'final grade': 4.0}"
      ]
     },
     "execution_count": 3,
     "metadata": {},
     "output_type": "execute_result"
    }
   ],
   "source": [
    "#TODO\n",
    "my_dict = {'name': name, \n",
    "           'age': age, \n",
    "           'final grade': avg_grade}\n",
    "\n",
    "my_dict"
   ]
  },
  {
   "cell_type": "code",
   "execution_count": 5,
   "id": "d2475c74",
   "metadata": {},
   "outputs": [
    {
     "data": {
      "text/plain": [
       "37"
      ]
     },
     "execution_count": 5,
     "metadata": {},
     "output_type": "execute_result"
    }
   ],
   "source": [
    "my_dict['age']"
   ]
  },
  {
   "cell_type": "markdown",
   "id": "5dbaa835",
   "metadata": {},
   "source": [
    "#### Exercise 01. Basic data analysis with native Python structures.  \n",
    "Create a list with the grades of 5 students: [8.5, 9.2, 7.8, 8.9, 10].\n",
    "\n",
    "- Calculate the average of the grades.\n",
    "\n",
    "# This is big text\n",
    "## this is less big text\n",
    "\n",
    "\n",
    "* this is a bullet point\n",
    "* and another bullet point\n",
    "    * and a sub bullet point\n",
    "\n",
    "### this is an *equation*:\n",
    "\n",
    "$\\sum^{n}_{i=1}c_{n} \\vec{n}$"
   ]
  },
  {
   "cell_type": "code",
   "execution_count": 8,
   "id": "64890bcd",
   "metadata": {},
   "outputs": [
    {
     "name": "stdout",
     "output_type": "stream",
     "text": [
      "8.879999999999999\n"
     ]
    }
   ],
   "source": [
    "grade_list = [8.5, 9.2, 7.8, 8.9, 10]\n",
    "\n",
    "running_total = 0\n",
    "for num in grade_list:\n",
    "    running_total += num\n",
    "\n",
    "print(running_total / len(grade_list))"
   ]
  },
  {
   "cell_type": "code",
   "execution_count": 9,
   "id": "f304f9e5",
   "metadata": {},
   "outputs": [],
   "source": [
    "import pandas as pd"
   ]
  },
  {
   "cell_type": "code",
   "execution_count": 11,
   "id": "6f5ee032",
   "metadata": {},
   "outputs": [
    {
     "data": {
      "text/plain": [
       "np.float64(8.879999999999999)"
      ]
     },
     "execution_count": 11,
     "metadata": {},
     "output_type": "execute_result"
    }
   ],
   "source": [
    "# TODO\n",
    "grade_list = pd.Series([8.5, 9.2, 7.8, 8.9, 10])\n",
    "\n",
    "grade_list.mean()"
   ]
  },
  {
   "cell_type": "markdown",
   "id": "20da3fc1",
   "metadata": {},
   "source": [
    "- Find the highest and lowest grade."
   ]
  },
  {
   "cell_type": "code",
   "execution_count": 12,
   "id": "4396c1a4",
   "metadata": {},
   "outputs": [
    {
     "name": "stdout",
     "output_type": "stream",
     "text": [
      "The highest grade is: 10.0\n",
      "The lowest grade is: 7.8\n"
     ]
    }
   ],
   "source": [
    "# TODO\n",
    "print(f\"The highest grade is: {grade_list.max()}\")\n",
    "print(f\"The lowest grade is: {grade_list.min()}\")"
   ]
  },
  {
   "cell_type": "code",
   "execution_count": 24,
   "id": "96f25afc",
   "metadata": {},
   "outputs": [
    {
     "data": {
      "text/html": [
       "<div>\n",
       "<style scoped>\n",
       "    .dataframe tbody tr th:only-of-type {\n",
       "        vertical-align: middle;\n",
       "    }\n",
       "\n",
       "    .dataframe tbody tr th {\n",
       "        vertical-align: top;\n",
       "    }\n",
       "\n",
       "    .dataframe thead th {\n",
       "        text-align: right;\n",
       "    }\n",
       "</style>\n",
       "<table border=\"1\" class=\"dataframe\">\n",
       "  <thead>\n",
       "    <tr style=\"text-align: right;\">\n",
       "      <th></th>\n",
       "      <th>ColA</th>\n",
       "      <th>ColB</th>\n",
       "    </tr>\n",
       "  </thead>\n",
       "  <tbody>\n",
       "    <tr>\n",
       "      <th>a</th>\n",
       "      <td>8.5</td>\n",
       "      <td>18.5</td>\n",
       "    </tr>\n",
       "    <tr>\n",
       "      <th>b</th>\n",
       "      <td>9.2</td>\n",
       "      <td>19.2</td>\n",
       "    </tr>\n",
       "    <tr>\n",
       "      <th>c</th>\n",
       "      <td>7.8</td>\n",
       "      <td>17.8</td>\n",
       "    </tr>\n",
       "    <tr>\n",
       "      <th>d</th>\n",
       "      <td>8.9</td>\n",
       "      <td>18.9</td>\n",
       "    </tr>\n",
       "    <tr>\n",
       "      <th>e</th>\n",
       "      <td>10.0</td>\n",
       "      <td>20.0</td>\n",
       "    </tr>\n",
       "  </tbody>\n",
       "</table>\n",
       "</div>"
      ],
      "text/plain": [
       "   ColA  ColB\n",
       "a   8.5  18.5\n",
       "b   9.2  19.2\n",
       "c   7.8  17.8\n",
       "d   8.9  18.9\n",
       "e  10.0  20.0"
      ]
     },
     "execution_count": 24,
     "metadata": {},
     "output_type": "execute_result"
    }
   ],
   "source": [
    "test_df = pd.concat([grade_list, grade_list+10], axis=1)\n",
    "test_df.index = ['a','b','c','d','e']\n",
    "test_df.columns = ['ColA','ColB']\n",
    "\n",
    "test_df"
   ]
  },
  {
   "cell_type": "code",
   "execution_count": null,
   "id": "a99c7024",
   "metadata": {},
   "outputs": [
    {
     "data": {
      "text/html": [
       "<div>\n",
       "<style scoped>\n",
       "    .dataframe tbody tr th:only-of-type {\n",
       "        vertical-align: middle;\n",
       "    }\n",
       "\n",
       "    .dataframe tbody tr th {\n",
       "        vertical-align: top;\n",
       "    }\n",
       "\n",
       "    .dataframe thead th {\n",
       "        text-align: right;\n",
       "    }\n",
       "</style>\n",
       "<table border=\"1\" class=\"dataframe\">\n",
       "  <thead>\n",
       "    <tr style=\"text-align: right;\">\n",
       "      <th></th>\n",
       "      <th>ColA</th>\n",
       "      <th>ColB</th>\n",
       "    </tr>\n",
       "  </thead>\n",
       "  <tbody>\n",
       "    <tr>\n",
       "      <th>a</th>\n",
       "      <td>8.5</td>\n",
       "      <td>18.5</td>\n",
       "    </tr>\n",
       "    <tr>\n",
       "      <th>b</th>\n",
       "      <td>9.2</td>\n",
       "      <td>19.2</td>\n",
       "    </tr>\n",
       "    <tr>\n",
       "      <th>c</th>\n",
       "      <td>7.8</td>\n",
       "      <td>17.8</td>\n",
       "    </tr>\n",
       "    <tr>\n",
       "      <th>d</th>\n",
       "      <td>980000.0</td>\n",
       "      <td>18.9</td>\n",
       "    </tr>\n",
       "    <tr>\n",
       "      <th>e</th>\n",
       "      <td>10.0</td>\n",
       "      <td>20.0</td>\n",
       "    </tr>\n",
       "    <tr>\n",
       "      <th>f</th>\n",
       "      <td>5.0</td>\n",
       "      <td>15.0</td>\n",
       "    </tr>\n",
       "  </tbody>\n",
       "</table>\n",
       "</div>"
      ],
      "text/plain": [
       "       ColA  ColB\n",
       "a       8.5  18.5\n",
       "b       9.2  19.2\n",
       "c       7.8  17.8\n",
       "d  980000.0  18.9\n",
       "e      10.0  20.0\n",
       "f       5.0  15.0"
      ]
     },
     "execution_count": 32,
     "metadata": {},
     "output_type": "execute_result"
    }
   ],
   "source": [
    "test_df.loc['d','ColA'] = 980000\n",
    "\n",
    "test_df"
   ]
  },
  {
   "cell_type": "code",
   "execution_count": null,
   "id": "0e86f192",
   "metadata": {},
   "outputs": [],
   "source": []
  },
  {
   "cell_type": "markdown",
   "id": "5d7e1112",
   "metadata": {},
   "source": [
    "# Real estate data cleaning with Pandas for efficient analysis\n",
    "\n",
    "This is a real dataset that was downloaded using web scraping techniques. The data contains records from **Fotocasa**, one of the most popular real estate websites in Spain. Please do not perform web scraping unless it is for academic purposes.\n",
    "\n",
    "The dataset was downloaded a few years ago by Henry Navarro, and no economic benefit was obtained from it.\n",
    "\n",
    "It contains thousands of real house listings published on the website www.fotocasa.com. Your goal is to extract as much information as possible with the data science knowledge you have acquired so far.\n",
    "\n",
    "Let's get started!\n",
    "\n",
    "- First, let's read and explore the dataset."
   ]
  },
  {
   "cell_type": "code",
   "execution_count": 33,
   "id": "7ac6cb18",
   "metadata": {},
   "outputs": [
    {
     "data": {
      "text/html": [
       "<div>\n",
       "<style scoped>\n",
       "    .dataframe tbody tr th:only-of-type {\n",
       "        vertical-align: middle;\n",
       "    }\n",
       "\n",
       "    .dataframe tbody tr th {\n",
       "        vertical-align: top;\n",
       "    }\n",
       "\n",
       "    .dataframe thead th {\n",
       "        text-align: right;\n",
       "    }\n",
       "</style>\n",
       "<table border=\"1\" class=\"dataframe\">\n",
       "  <thead>\n",
       "    <tr style=\"text-align: right;\">\n",
       "      <th></th>\n",
       "      <th>Unnamed: 0</th>\n",
       "      <th>id_realEstates</th>\n",
       "      <th>isNew</th>\n",
       "      <th>realEstate_name</th>\n",
       "      <th>phone_realEstate</th>\n",
       "      <th>url_inmueble</th>\n",
       "      <th>rooms</th>\n",
       "      <th>bathrooms</th>\n",
       "      <th>surface</th>\n",
       "      <th>price</th>\n",
       "      <th>...</th>\n",
       "      <th>level4Id</th>\n",
       "      <th>level5Id</th>\n",
       "      <th>level6Id</th>\n",
       "      <th>level7Id</th>\n",
       "      <th>level8Id</th>\n",
       "      <th>accuracy</th>\n",
       "      <th>latitude</th>\n",
       "      <th>longitude</th>\n",
       "      <th>zipCode</th>\n",
       "      <th>customZone</th>\n",
       "    </tr>\n",
       "  </thead>\n",
       "  <tbody>\n",
       "    <tr>\n",
       "      <th>0</th>\n",
       "      <td>1</td>\n",
       "      <td>153771986</td>\n",
       "      <td>False</td>\n",
       "      <td>ferrari 57 inmobiliaria</td>\n",
       "      <td>912177526.0</td>\n",
       "      <td>https://www.fotocasa.es/es/comprar/vivienda/ma...</td>\n",
       "      <td>3.0</td>\n",
       "      <td>2.0</td>\n",
       "      <td>103.0</td>\n",
       "      <td>195000</td>\n",
       "      <td>...</td>\n",
       "      <td>0</td>\n",
       "      <td>0</td>\n",
       "      <td>0</td>\n",
       "      <td>0</td>\n",
       "      <td>0</td>\n",
       "      <td>0</td>\n",
       "      <td>40,2948276786438</td>\n",
       "      <td>-3,44402412135624</td>\n",
       "      <td>NaN</td>\n",
       "      <td>NaN</td>\n",
       "    </tr>\n",
       "    <tr>\n",
       "      <th>1</th>\n",
       "      <td>2</td>\n",
       "      <td>153867863</td>\n",
       "      <td>False</td>\n",
       "      <td>tecnocasa fuenlabrada ferrocarril</td>\n",
       "      <td>916358736.0</td>\n",
       "      <td>https://www.fotocasa.es/es/comprar/vivienda/ma...</td>\n",
       "      <td>3.0</td>\n",
       "      <td>1.0</td>\n",
       "      <td>NaN</td>\n",
       "      <td>89000</td>\n",
       "      <td>...</td>\n",
       "      <td>0</td>\n",
       "      <td>0</td>\n",
       "      <td>0</td>\n",
       "      <td>0</td>\n",
       "      <td>0</td>\n",
       "      <td>1</td>\n",
       "      <td>40,28674</td>\n",
       "      <td>-3,79351</td>\n",
       "      <td>NaN</td>\n",
       "      <td>NaN</td>\n",
       "    </tr>\n",
       "    <tr>\n",
       "      <th>2</th>\n",
       "      <td>3</td>\n",
       "      <td>153430440</td>\n",
       "      <td>False</td>\n",
       "      <td>look find boadilla</td>\n",
       "      <td>916350408.0</td>\n",
       "      <td>https://www.fotocasa.es/es/comprar/vivienda/ma...</td>\n",
       "      <td>2.0</td>\n",
       "      <td>2.0</td>\n",
       "      <td>99.0</td>\n",
       "      <td>390000</td>\n",
       "      <td>...</td>\n",
       "      <td>0</td>\n",
       "      <td>0</td>\n",
       "      <td>0</td>\n",
       "      <td>0</td>\n",
       "      <td>0</td>\n",
       "      <td>0</td>\n",
       "      <td>40,4115646786438</td>\n",
       "      <td>-3,90662252135624</td>\n",
       "      <td>NaN</td>\n",
       "      <td>NaN</td>\n",
       "    </tr>\n",
       "    <tr>\n",
       "      <th>3</th>\n",
       "      <td>4</td>\n",
       "      <td>152776331</td>\n",
       "      <td>False</td>\n",
       "      <td>tecnocasa fuenlabrada ferrocarril</td>\n",
       "      <td>916358736.0</td>\n",
       "      <td>https://www.fotocasa.es/es/comprar/vivienda/ma...</td>\n",
       "      <td>3.0</td>\n",
       "      <td>1.0</td>\n",
       "      <td>86.0</td>\n",
       "      <td>89000</td>\n",
       "      <td>...</td>\n",
       "      <td>0</td>\n",
       "      <td>0</td>\n",
       "      <td>0</td>\n",
       "      <td>0</td>\n",
       "      <td>0</td>\n",
       "      <td>0</td>\n",
       "      <td>40,2853785786438</td>\n",
       "      <td>-3,79508142135624</td>\n",
       "      <td>NaN</td>\n",
       "      <td>NaN</td>\n",
       "    </tr>\n",
       "    <tr>\n",
       "      <th>4</th>\n",
       "      <td>5</td>\n",
       "      <td>153180188</td>\n",
       "      <td>False</td>\n",
       "      <td>ferrari 57 inmobiliaria</td>\n",
       "      <td>912177526.0</td>\n",
       "      <td>https://www.fotocasa.es/es/comprar/vivienda/ma...</td>\n",
       "      <td>2.0</td>\n",
       "      <td>2.0</td>\n",
       "      <td>106.0</td>\n",
       "      <td>172000</td>\n",
       "      <td>...</td>\n",
       "      <td>0</td>\n",
       "      <td>0</td>\n",
       "      <td>0</td>\n",
       "      <td>0</td>\n",
       "      <td>0</td>\n",
       "      <td>0</td>\n",
       "      <td>40,2998774864376</td>\n",
       "      <td>-3,45226301356237</td>\n",
       "      <td>NaN</td>\n",
       "      <td>NaN</td>\n",
       "    </tr>\n",
       "    <tr>\n",
       "      <th>...</th>\n",
       "      <td>...</td>\n",
       "      <td>...</td>\n",
       "      <td>...</td>\n",
       "      <td>...</td>\n",
       "      <td>...</td>\n",
       "      <td>...</td>\n",
       "      <td>...</td>\n",
       "      <td>...</td>\n",
       "      <td>...</td>\n",
       "      <td>...</td>\n",
       "      <td>...</td>\n",
       "      <td>...</td>\n",
       "      <td>...</td>\n",
       "      <td>...</td>\n",
       "      <td>...</td>\n",
       "      <td>...</td>\n",
       "      <td>...</td>\n",
       "      <td>...</td>\n",
       "      <td>...</td>\n",
       "      <td>...</td>\n",
       "      <td>...</td>\n",
       "    </tr>\n",
       "    <tr>\n",
       "      <th>15330</th>\n",
       "      <td>15331</td>\n",
       "      <td>153901377</td>\n",
       "      <td>False</td>\n",
       "      <td>infocasa consulting</td>\n",
       "      <td>911360461.0</td>\n",
       "      <td>https://www.fotocasa.es/es/comprar/vivienda/ma...</td>\n",
       "      <td>2.0</td>\n",
       "      <td>1.0</td>\n",
       "      <td>96.0</td>\n",
       "      <td>259470</td>\n",
       "      <td>...</td>\n",
       "      <td>0</td>\n",
       "      <td>0</td>\n",
       "      <td>0</td>\n",
       "      <td>0</td>\n",
       "      <td>0</td>\n",
       "      <td>0</td>\n",
       "      <td>40,45416</td>\n",
       "      <td>-3,70286</td>\n",
       "      <td>NaN</td>\n",
       "      <td>NaN</td>\n",
       "    </tr>\n",
       "    <tr>\n",
       "      <th>15331</th>\n",
       "      <td>15332</td>\n",
       "      <td>150394373</td>\n",
       "      <td>False</td>\n",
       "      <td>inmobiliaria pulpon</td>\n",
       "      <td>912788039.0</td>\n",
       "      <td>https://www.fotocasa.es/es/comprar/vivienda/ma...</td>\n",
       "      <td>3.0</td>\n",
       "      <td>1.0</td>\n",
       "      <td>150.0</td>\n",
       "      <td>165000</td>\n",
       "      <td>...</td>\n",
       "      <td>0</td>\n",
       "      <td>0</td>\n",
       "      <td>0</td>\n",
       "      <td>0</td>\n",
       "      <td>0</td>\n",
       "      <td>0</td>\n",
       "      <td>40,36652</td>\n",
       "      <td>-3,48951</td>\n",
       "      <td>NaN</td>\n",
       "      <td>NaN</td>\n",
       "    </tr>\n",
       "    <tr>\n",
       "      <th>15332</th>\n",
       "      <td>15333</td>\n",
       "      <td>153901397</td>\n",
       "      <td>False</td>\n",
       "      <td>tecnocasa torrelodones</td>\n",
       "      <td>912780348.0</td>\n",
       "      <td>https://www.fotocasa.es/es/comprar/vivienda/ma...</td>\n",
       "      <td>4.0</td>\n",
       "      <td>2.0</td>\n",
       "      <td>175.0</td>\n",
       "      <td>495000</td>\n",
       "      <td>...</td>\n",
       "      <td>0</td>\n",
       "      <td>0</td>\n",
       "      <td>0</td>\n",
       "      <td>0</td>\n",
       "      <td>0</td>\n",
       "      <td>0</td>\n",
       "      <td>40,57444</td>\n",
       "      <td>-3,92124</td>\n",
       "      <td>NaN</td>\n",
       "      <td>NaN</td>\n",
       "    </tr>\n",
       "    <tr>\n",
       "      <th>15333</th>\n",
       "      <td>15334</td>\n",
       "      <td>152607440</td>\n",
       "      <td>False</td>\n",
       "      <td>inmobiliaria pulpon</td>\n",
       "      <td>912788039.0</td>\n",
       "      <td>https://www.fotocasa.es/es/comprar/vivienda/ma...</td>\n",
       "      <td>3.0</td>\n",
       "      <td>2.0</td>\n",
       "      <td>101.0</td>\n",
       "      <td>195000</td>\n",
       "      <td>...</td>\n",
       "      <td>0</td>\n",
       "      <td>0</td>\n",
       "      <td>0</td>\n",
       "      <td>0</td>\n",
       "      <td>0</td>\n",
       "      <td>0</td>\n",
       "      <td>40,36967</td>\n",
       "      <td>-3,48105</td>\n",
       "      <td>NaN</td>\n",
       "      <td>NaN</td>\n",
       "    </tr>\n",
       "    <tr>\n",
       "      <th>15334</th>\n",
       "      <td>15335</td>\n",
       "      <td>153901356</td>\n",
       "      <td>False</td>\n",
       "      <td>infocasa consulting</td>\n",
       "      <td>911360461.0</td>\n",
       "      <td>https://www.fotocasa.es/es/comprar/vivienda/ma...</td>\n",
       "      <td>3.0</td>\n",
       "      <td>2.0</td>\n",
       "      <td>152.0</td>\n",
       "      <td>765000</td>\n",
       "      <td>...</td>\n",
       "      <td>0</td>\n",
       "      <td>0</td>\n",
       "      <td>0</td>\n",
       "      <td>0</td>\n",
       "      <td>0</td>\n",
       "      <td>0</td>\n",
       "      <td>40,45773</td>\n",
       "      <td>-3,69068</td>\n",
       "      <td>NaN</td>\n",
       "      <td>NaN</td>\n",
       "    </tr>\n",
       "  </tbody>\n",
       "</table>\n",
       "<p>15335 rows × 37 columns</p>\n",
       "</div>"
      ],
      "text/plain": [
       "       Unnamed: 0  id_realEstates  isNew                    realEstate_name  \\\n",
       "0               1       153771986  False            ferrari 57 inmobiliaria   \n",
       "1               2       153867863  False  tecnocasa fuenlabrada ferrocarril   \n",
       "2               3       153430440  False                 look find boadilla   \n",
       "3               4       152776331  False  tecnocasa fuenlabrada ferrocarril   \n",
       "4               5       153180188  False            ferrari 57 inmobiliaria   \n",
       "...           ...             ...    ...                                ...   \n",
       "15330       15331       153901377  False                infocasa consulting   \n",
       "15331       15332       150394373  False                inmobiliaria pulpon   \n",
       "15332       15333       153901397  False             tecnocasa torrelodones   \n",
       "15333       15334       152607440  False                inmobiliaria pulpon   \n",
       "15334       15335       153901356  False                infocasa consulting   \n",
       "\n",
       "       phone_realEstate                                       url_inmueble  \\\n",
       "0           912177526.0  https://www.fotocasa.es/es/comprar/vivienda/ma...   \n",
       "1           916358736.0  https://www.fotocasa.es/es/comprar/vivienda/ma...   \n",
       "2           916350408.0  https://www.fotocasa.es/es/comprar/vivienda/ma...   \n",
       "3           916358736.0  https://www.fotocasa.es/es/comprar/vivienda/ma...   \n",
       "4           912177526.0  https://www.fotocasa.es/es/comprar/vivienda/ma...   \n",
       "...                 ...                                                ...   \n",
       "15330       911360461.0  https://www.fotocasa.es/es/comprar/vivienda/ma...   \n",
       "15331       912788039.0  https://www.fotocasa.es/es/comprar/vivienda/ma...   \n",
       "15332       912780348.0  https://www.fotocasa.es/es/comprar/vivienda/ma...   \n",
       "15333       912788039.0  https://www.fotocasa.es/es/comprar/vivienda/ma...   \n",
       "15334       911360461.0  https://www.fotocasa.es/es/comprar/vivienda/ma...   \n",
       "\n",
       "       rooms  bathrooms  surface   price  ... level4Id level5Id level6Id  \\\n",
       "0        3.0        2.0    103.0  195000  ...        0        0        0   \n",
       "1        3.0        1.0      NaN   89000  ...        0        0        0   \n",
       "2        2.0        2.0     99.0  390000  ...        0        0        0   \n",
       "3        3.0        1.0     86.0   89000  ...        0        0        0   \n",
       "4        2.0        2.0    106.0  172000  ...        0        0        0   \n",
       "...      ...        ...      ...     ...  ...      ...      ...      ...   \n",
       "15330    2.0        1.0     96.0  259470  ...        0        0        0   \n",
       "15331    3.0        1.0    150.0  165000  ...        0        0        0   \n",
       "15332    4.0        2.0    175.0  495000  ...        0        0        0   \n",
       "15333    3.0        2.0    101.0  195000  ...        0        0        0   \n",
       "15334    3.0        2.0    152.0  765000  ...        0        0        0   \n",
       "\n",
       "      level7Id level8Id accuracy          latitude          longitude zipCode  \\\n",
       "0            0        0        0  40,2948276786438  -3,44402412135624     NaN   \n",
       "1            0        0        1          40,28674           -3,79351     NaN   \n",
       "2            0        0        0  40,4115646786438  -3,90662252135624     NaN   \n",
       "3            0        0        0  40,2853785786438  -3,79508142135624     NaN   \n",
       "4            0        0        0  40,2998774864376  -3,45226301356237     NaN   \n",
       "...        ...      ...      ...               ...                ...     ...   \n",
       "15330        0        0        0          40,45416           -3,70286     NaN   \n",
       "15331        0        0        0          40,36652           -3,48951     NaN   \n",
       "15332        0        0        0          40,57444           -3,92124     NaN   \n",
       "15333        0        0        0          40,36967           -3,48105     NaN   \n",
       "15334        0        0        0          40,45773           -3,69068     NaN   \n",
       "\n",
       "      customZone  \n",
       "0            NaN  \n",
       "1            NaN  \n",
       "2            NaN  \n",
       "3            NaN  \n",
       "4            NaN  \n",
       "...          ...  \n",
       "15330        NaN  \n",
       "15331        NaN  \n",
       "15332        NaN  \n",
       "15333        NaN  \n",
       "15334        NaN  \n",
       "\n",
       "[15335 rows x 37 columns]"
      ]
     },
     "execution_count": 33,
     "metadata": {},
     "output_type": "execute_result"
    }
   ],
   "source": [
    "import pandas as pd\n",
    "\n",
    "# Leer el archivo CSV\n",
    "df = pd.read_csv('assets/real_estate.csv', sep=';') # Este archivo CSV contiene puntos y comas en lugar de comas como separadores\n",
    "df # mostramos todo"
   ]
  },
  {
   "cell_type": "markdown",
   "id": "7c9f690a",
   "metadata": {},
   "source": [
    "- Display the first rows of the CSV file."
   ]
  },
  {
   "cell_type": "code",
   "execution_count": 39,
   "id": "a8ff6c53",
   "metadata": {},
   "outputs": [
    {
     "data": {
      "text/html": [
       "<div>\n",
       "<style scoped>\n",
       "    .dataframe tbody tr th:only-of-type {\n",
       "        vertical-align: middle;\n",
       "    }\n",
       "\n",
       "    .dataframe tbody tr th {\n",
       "        vertical-align: top;\n",
       "    }\n",
       "\n",
       "    .dataframe thead th {\n",
       "        text-align: right;\n",
       "    }\n",
       "</style>\n",
       "<table border=\"1\" class=\"dataframe\">\n",
       "  <thead>\n",
       "    <tr style=\"text-align: right;\">\n",
       "      <th></th>\n",
       "      <th>Unnamed: 0</th>\n",
       "      <th>id_realEstates</th>\n",
       "      <th>isNew</th>\n",
       "      <th>realEstate_name</th>\n",
       "      <th>phone_realEstate</th>\n",
       "      <th>url_inmueble</th>\n",
       "      <th>rooms</th>\n",
       "      <th>bathrooms</th>\n",
       "      <th>surface</th>\n",
       "      <th>price</th>\n",
       "      <th>...</th>\n",
       "      <th>level4Id</th>\n",
       "      <th>level5Id</th>\n",
       "      <th>level6Id</th>\n",
       "      <th>level7Id</th>\n",
       "      <th>level8Id</th>\n",
       "      <th>accuracy</th>\n",
       "      <th>latitude</th>\n",
       "      <th>longitude</th>\n",
       "      <th>zipCode</th>\n",
       "      <th>customZone</th>\n",
       "    </tr>\n",
       "  </thead>\n",
       "  <tbody>\n",
       "    <tr>\n",
       "      <th>0</th>\n",
       "      <td>1</td>\n",
       "      <td>153771986</td>\n",
       "      <td>False</td>\n",
       "      <td>ferrari 57 inmobiliaria</td>\n",
       "      <td>912177526.0</td>\n",
       "      <td>https://www.fotocasa.es/es/comprar/vivienda/ma...</td>\n",
       "      <td>3.0</td>\n",
       "      <td>2.0</td>\n",
       "      <td>103.0</td>\n",
       "      <td>195000</td>\n",
       "      <td>...</td>\n",
       "      <td>0</td>\n",
       "      <td>0</td>\n",
       "      <td>0</td>\n",
       "      <td>0</td>\n",
       "      <td>0</td>\n",
       "      <td>0</td>\n",
       "      <td>40,2948276786438</td>\n",
       "      <td>-3,44402412135624</td>\n",
       "      <td>NaN</td>\n",
       "      <td>NaN</td>\n",
       "    </tr>\n",
       "    <tr>\n",
       "      <th>1</th>\n",
       "      <td>2</td>\n",
       "      <td>153867863</td>\n",
       "      <td>False</td>\n",
       "      <td>tecnocasa fuenlabrada ferrocarril</td>\n",
       "      <td>916358736.0</td>\n",
       "      <td>https://www.fotocasa.es/es/comprar/vivienda/ma...</td>\n",
       "      <td>3.0</td>\n",
       "      <td>1.0</td>\n",
       "      <td>NaN</td>\n",
       "      <td>89000</td>\n",
       "      <td>...</td>\n",
       "      <td>0</td>\n",
       "      <td>0</td>\n",
       "      <td>0</td>\n",
       "      <td>0</td>\n",
       "      <td>0</td>\n",
       "      <td>1</td>\n",
       "      <td>40,28674</td>\n",
       "      <td>-3,79351</td>\n",
       "      <td>NaN</td>\n",
       "      <td>NaN</td>\n",
       "    </tr>\n",
       "    <tr>\n",
       "      <th>2</th>\n",
       "      <td>3</td>\n",
       "      <td>153430440</td>\n",
       "      <td>False</td>\n",
       "      <td>look find boadilla</td>\n",
       "      <td>916350408.0</td>\n",
       "      <td>https://www.fotocasa.es/es/comprar/vivienda/ma...</td>\n",
       "      <td>2.0</td>\n",
       "      <td>2.0</td>\n",
       "      <td>99.0</td>\n",
       "      <td>390000</td>\n",
       "      <td>...</td>\n",
       "      <td>0</td>\n",
       "      <td>0</td>\n",
       "      <td>0</td>\n",
       "      <td>0</td>\n",
       "      <td>0</td>\n",
       "      <td>0</td>\n",
       "      <td>40,4115646786438</td>\n",
       "      <td>-3,90662252135624</td>\n",
       "      <td>NaN</td>\n",
       "      <td>NaN</td>\n",
       "    </tr>\n",
       "    <tr>\n",
       "      <th>3</th>\n",
       "      <td>4</td>\n",
       "      <td>152776331</td>\n",
       "      <td>False</td>\n",
       "      <td>tecnocasa fuenlabrada ferrocarril</td>\n",
       "      <td>916358736.0</td>\n",
       "      <td>https://www.fotocasa.es/es/comprar/vivienda/ma...</td>\n",
       "      <td>3.0</td>\n",
       "      <td>1.0</td>\n",
       "      <td>86.0</td>\n",
       "      <td>89000</td>\n",
       "      <td>...</td>\n",
       "      <td>0</td>\n",
       "      <td>0</td>\n",
       "      <td>0</td>\n",
       "      <td>0</td>\n",
       "      <td>0</td>\n",
       "      <td>0</td>\n",
       "      <td>40,2853785786438</td>\n",
       "      <td>-3,79508142135624</td>\n",
       "      <td>NaN</td>\n",
       "      <td>NaN</td>\n",
       "    </tr>\n",
       "    <tr>\n",
       "      <th>4</th>\n",
       "      <td>5</td>\n",
       "      <td>153180188</td>\n",
       "      <td>False</td>\n",
       "      <td>ferrari 57 inmobiliaria</td>\n",
       "      <td>912177526.0</td>\n",
       "      <td>https://www.fotocasa.es/es/comprar/vivienda/ma...</td>\n",
       "      <td>2.0</td>\n",
       "      <td>2.0</td>\n",
       "      <td>106.0</td>\n",
       "      <td>172000</td>\n",
       "      <td>...</td>\n",
       "      <td>0</td>\n",
       "      <td>0</td>\n",
       "      <td>0</td>\n",
       "      <td>0</td>\n",
       "      <td>0</td>\n",
       "      <td>0</td>\n",
       "      <td>40,2998774864376</td>\n",
       "      <td>-3,45226301356237</td>\n",
       "      <td>NaN</td>\n",
       "      <td>NaN</td>\n",
       "    </tr>\n",
       "  </tbody>\n",
       "</table>\n",
       "<p>5 rows × 37 columns</p>\n",
       "</div>"
      ],
      "text/plain": [
       "   Unnamed: 0  id_realEstates  isNew                    realEstate_name  \\\n",
       "0           1       153771986  False            ferrari 57 inmobiliaria   \n",
       "1           2       153867863  False  tecnocasa fuenlabrada ferrocarril   \n",
       "2           3       153430440  False                 look find boadilla   \n",
       "3           4       152776331  False  tecnocasa fuenlabrada ferrocarril   \n",
       "4           5       153180188  False            ferrari 57 inmobiliaria   \n",
       "\n",
       "   phone_realEstate                                       url_inmueble  rooms  \\\n",
       "0       912177526.0  https://www.fotocasa.es/es/comprar/vivienda/ma...    3.0   \n",
       "1       916358736.0  https://www.fotocasa.es/es/comprar/vivienda/ma...    3.0   \n",
       "2       916350408.0  https://www.fotocasa.es/es/comprar/vivienda/ma...    2.0   \n",
       "3       916358736.0  https://www.fotocasa.es/es/comprar/vivienda/ma...    3.0   \n",
       "4       912177526.0  https://www.fotocasa.es/es/comprar/vivienda/ma...    2.0   \n",
       "\n",
       "   bathrooms  surface   price  ... level4Id level5Id level6Id level7Id  \\\n",
       "0        2.0    103.0  195000  ...        0        0        0        0   \n",
       "1        1.0      NaN   89000  ...        0        0        0        0   \n",
       "2        2.0     99.0  390000  ...        0        0        0        0   \n",
       "3        1.0     86.0   89000  ...        0        0        0        0   \n",
       "4        2.0    106.0  172000  ...        0        0        0        0   \n",
       "\n",
       "  level8Id accuracy          latitude          longitude zipCode customZone  \n",
       "0        0        0  40,2948276786438  -3,44402412135624     NaN        NaN  \n",
       "1        0        1          40,28674           -3,79351     NaN        NaN  \n",
       "2        0        0  40,4115646786438  -3,90662252135624     NaN        NaN  \n",
       "3        0        0  40,2853785786438  -3,79508142135624     NaN        NaN  \n",
       "4        0        0  40,2998774864376  -3,45226301356237     NaN        NaN  \n",
       "\n",
       "[5 rows x 37 columns]"
      ]
     },
     "execution_count": 39,
     "metadata": {},
     "output_type": "execute_result"
    }
   ],
   "source": [
    "# TODO\n",
    "df.head()"
   ]
  },
  {
   "cell_type": "markdown",
   "id": "ce7aed60",
   "metadata": {},
   "source": [
    "Perfect, this was a small practice. Now let's begin with the real exercises!"
   ]
  },
  {
   "cell_type": "code",
   "execution_count": 41,
   "id": "f3f1d0bc",
   "metadata": {},
   "outputs": [
    {
     "name": "stdout",
     "output_type": "stream",
     "text": [
      "<class 'pandas.core.frame.DataFrame'>\n",
      "RangeIndex: 15335 entries, 0 to 15334\n",
      "Data columns (total 37 columns):\n",
      " #   Column            Non-Null Count  Dtype  \n",
      "---  ------            --------------  -----  \n",
      " 0   Unnamed: 0        15335 non-null  int64  \n",
      " 1   id_realEstates    15335 non-null  int64  \n",
      " 2   isNew             15335 non-null  bool   \n",
      " 3   realEstate_name   15325 non-null  object \n",
      " 4   phone_realEstate  14541 non-null  float64\n",
      " 5   url_inmueble      15335 non-null  object \n",
      " 6   rooms             14982 non-null  float64\n",
      " 7   bathrooms         14990 non-null  float64\n",
      " 8   surface           14085 non-null  float64\n",
      " 9   price             15335 non-null  int64  \n",
      " 10  date              15335 non-null  object \n",
      " 11  description       15193 non-null  object \n",
      " 12  address           15335 non-null  object \n",
      " 13  country           15335 non-null  object \n",
      " 14  level1            15335 non-null  object \n",
      " 15  level2            15335 non-null  object \n",
      " 16  level3            15335 non-null  object \n",
      " 17  level4            8692 non-null   object \n",
      " 18  level5            15335 non-null  object \n",
      " 19  level6            708 non-null    object \n",
      " 20  level7            13058 non-null  object \n",
      " 21  level8            6756 non-null   object \n",
      " 22  upperLevel        15335 non-null  object \n",
      " 23  countryId         15335 non-null  int64  \n",
      " 24  level1Id          15335 non-null  int64  \n",
      " 25  level2Id          15335 non-null  int64  \n",
      " 26  level3Id          15335 non-null  int64  \n",
      " 27  level4Id          15335 non-null  int64  \n",
      " 28  level5Id          15335 non-null  int64  \n",
      " 29  level6Id          15335 non-null  int64  \n",
      " 30  level7Id          15335 non-null  int64  \n",
      " 31  level8Id          15335 non-null  int64  \n",
      " 32  accuracy          15335 non-null  int64  \n",
      " 33  latitude          15335 non-null  object \n",
      " 34  longitude         15335 non-null  object \n",
      " 35  zipCode           0 non-null      float64\n",
      " 36  customZone        0 non-null      float64\n",
      "dtypes: bool(1), float64(6), int64(13), object(17)\n",
      "memory usage: 4.2+ MB\n"
     ]
    }
   ],
   "source": [
    "df.info()"
   ]
  },
  {
   "cell_type": "markdown",
   "id": "1221311f",
   "metadata": {},
   "source": [
    "#### Exercise 01. What is the most expensive house in the entire dataset? (★☆☆)\n",
    "\n",
    "Print the address and price of the selected house. For example:\n",
    "\n",
    "`The house located at Calle del Prado, Nº20 is the most expensive, and its price is 5000000 USD.`"
   ]
  },
  {
   "cell_type": "code",
   "execution_count": null,
   "id": "aa45da68",
   "metadata": {},
   "outputs": [
    {
     "data": {
      "text/plain": [
       "np.int64(8500000)"
      ]
     },
     "execution_count": 42,
     "metadata": {},
     "output_type": "execute_result"
    }
   ],
   "source": [
    "# TODO\n",
    "df['price'].max()"
   ]
  },
  {
   "cell_type": "code",
   "execution_count": null,
   "id": "ab1e3e58",
   "metadata": {},
   "outputs": [
    {
     "name": "stdout",
     "output_type": "stream",
     "text": [
      "The most expensive house is located at this address:       El Escorial and costs this much: 8500000\n"
     ]
    }
   ],
   "source": [
    "most_expensive_house = df.iloc[df['price'].idxmax()]\n",
    "\n",
    "max_price_index = df['price'].idxmax()\n",
    "\n",
    "print(f\"The most expensive house is located at this address: \\\n",
    "{df['address'][max_price_index]} and costs this much: {df['price'][max_price_index]}\")"
   ]
  },
  {
   "cell_type": "code",
   "execution_count": 70,
   "id": "0673cde5",
   "metadata": {},
   "outputs": [
    {
     "data": {
      "text/plain": [
       "'El Escorial'"
      ]
     },
     "execution_count": 70,
     "metadata": {},
     "output_type": "execute_result"
    }
   ],
   "source": [
    "df['address'][max_price_index]"
   ]
  },
  {
   "cell_type": "markdown",
   "id": "8059b1b6",
   "metadata": {},
   "source": [
    "#### Exercise 02. What is the cheapest house in the dataset? (★☆☆)\n",
    "\n",
    "This exercise is similar to the previous one, except now we are looking for the house with the lowest price. Remember to print the address and price of the selected house. For example:\n",
    "\n",
    "`The house located at Calle Alcalá, Nº58 is the cheapest, and its price is 12000 USD.`\n"
   ]
  },
  {
   "cell_type": "code",
   "execution_count": 145,
   "id": "50d2f490",
   "metadata": {},
   "outputs": [],
   "source": [
    "import matplotlib.pyplot as plt\n",
    "pd.set_option('display.max_columns', None)"
   ]
  },
  {
   "cell_type": "code",
   "execution_count": 86,
   "id": "007c60de",
   "metadata": {},
   "outputs": [
    {
     "name": "stdout",
     "output_type": "stream",
     "text": [
      "The least expensive house is located at this address: Berlin, Coslada and costs this much: 600 (pesos?)\n"
     ]
    }
   ],
   "source": [
    "# TODO\n",
    "\n",
    "min_price_index = df[df['price'] != 0]['price'].idxmin()\n",
    "\n",
    "print(f\"The least expensive house is located at this address: \\\n",
    "{df['address'][min_price_index]} and costs this much: {df['price'][min_price_index]} (pesos?)\")"
   ]
  },
  {
   "cell_type": "code",
   "execution_count": 94,
   "id": "8a16674a",
   "metadata": {},
   "outputs": [
    {
     "data": {
      "text/plain": [
       "array([195000,  89000, 390000, ..., 191050, 186050, 524200], shape=(2633,))"
      ]
     },
     "execution_count": 94,
     "metadata": {},
     "output_type": "execute_result"
    }
   ],
   "source": [
    "df['price'].unique()"
   ]
  },
  {
   "cell_type": "code",
   "execution_count": null,
   "id": "49fc3057",
   "metadata": {},
   "outputs": [
    {
     "data": {
      "text/html": [
       "<div>\n",
       "<style scoped>\n",
       "    .dataframe tbody tr th:only-of-type {\n",
       "        vertical-align: middle;\n",
       "    }\n",
       "\n",
       "    .dataframe tbody tr th {\n",
       "        vertical-align: top;\n",
       "    }\n",
       "\n",
       "    .dataframe thead th {\n",
       "        text-align: right;\n",
       "    }\n",
       "</style>\n",
       "<table border=\"1\" class=\"dataframe\">\n",
       "  <thead>\n",
       "    <tr style=\"text-align: right;\">\n",
       "      <th></th>\n",
       "      <th>Unnamed: 0</th>\n",
       "      <th>id_realEstates</th>\n",
       "      <th>isNew</th>\n",
       "      <th>realEstate_name</th>\n",
       "      <th>phone_realEstate</th>\n",
       "      <th>url_inmueble</th>\n",
       "      <th>rooms</th>\n",
       "      <th>bathrooms</th>\n",
       "      <th>surface</th>\n",
       "      <th>price</th>\n",
       "      <th>...</th>\n",
       "      <th>level4Id</th>\n",
       "      <th>level5Id</th>\n",
       "      <th>level6Id</th>\n",
       "      <th>level7Id</th>\n",
       "      <th>level8Id</th>\n",
       "      <th>accuracy</th>\n",
       "      <th>latitude</th>\n",
       "      <th>longitude</th>\n",
       "      <th>zipCode</th>\n",
       "      <th>customZone</th>\n",
       "    </tr>\n",
       "  </thead>\n",
       "  <tbody>\n",
       "    <tr>\n",
       "      <th>7491</th>\n",
       "      <td>7492</td>\n",
       "      <td>153977752</td>\n",
       "      <td>False</td>\n",
       "      <td>redpiso coslada</td>\n",
       "      <td>910759552.0</td>\n",
       "      <td>https://www.fotocasa.es/es/comprar/vivienda/ma...</td>\n",
       "      <td>3.0</td>\n",
       "      <td>1.0</td>\n",
       "      <td>80.0</td>\n",
       "      <td>600</td>\n",
       "      <td>...</td>\n",
       "      <td>0</td>\n",
       "      <td>0</td>\n",
       "      <td>0</td>\n",
       "      <td>0</td>\n",
       "      <td>0</td>\n",
       "      <td>0</td>\n",
       "      <td>40,41869</td>\n",
       "      <td>-3,54004</td>\n",
       "      <td>NaN</td>\n",
       "      <td>NaN</td>\n",
       "    </tr>\n",
       "  </tbody>\n",
       "</table>\n",
       "<p>1 rows × 37 columns</p>\n",
       "</div>"
      ],
      "text/plain": [
       "      Unnamed: 0  id_realEstates  isNew  realEstate_name  phone_realEstate  \\\n",
       "7491        7492       153977752  False  redpiso coslada       910759552.0   \n",
       "\n",
       "                                           url_inmueble  rooms  bathrooms  \\\n",
       "7491  https://www.fotocasa.es/es/comprar/vivienda/ma...    3.0        1.0   \n",
       "\n",
       "      surface  price  ... level4Id level5Id level6Id level7Id level8Id  \\\n",
       "7491     80.0    600  ...        0        0        0        0        0   \n",
       "\n",
       "     accuracy  latitude longitude zipCode customZone  \n",
       "7491        0  40,41869  -3,54004     NaN        NaN  \n",
       "\n",
       "[1 rows x 37 columns]"
      ]
     },
     "execution_count": 84,
     "metadata": {},
     "output_type": "execute_result"
    }
   ],
   "source": []
  },
  {
   "cell_type": "markdown",
   "id": "637612ca",
   "metadata": {},
   "source": [
    "#### Exercise 03. What is the largest and smallest house in the dataset? (★☆☆)\n",
    "\n",
    "Print the address and area of the selected houses. For example:\n",
    "\n",
    "`The largest house is located at Calle Gran Vía, Nº38, and its area is 5000 square meters.`\n",
    "\n",
    "`The smallest house is located at Calle Mayor, Nº12, and its area is 200 square meters.`\n",
    "\n",
    "This exercise is similar to the previous one, but we are looking for the largest and smallest houses based on their area."
   ]
  },
  {
   "cell_type": "code",
   "execution_count": 96,
   "id": "379df443",
   "metadata": {},
   "outputs": [
    {
     "data": {
      "text/plain": [
       "Index(['Unnamed: 0', 'id_realEstates', 'isNew', 'realEstate_name',\n",
       "       'phone_realEstate', 'url_inmueble', 'rooms', 'bathrooms', 'surface',\n",
       "       'price', 'date', 'description', 'address', 'country', 'level1',\n",
       "       'level2', 'level3', 'level4', 'level5', 'level6', 'level7', 'level8',\n",
       "       'upperLevel', 'countryId', 'level1Id', 'level2Id', 'level3Id',\n",
       "       'level4Id', 'level5Id', 'level6Id', 'level7Id', 'level8Id', 'accuracy',\n",
       "       'latitude', 'longitude', 'zipCode', 'customZone'],\n",
       "      dtype='object')"
      ]
     },
     "execution_count": 96,
     "metadata": {},
     "output_type": "execute_result"
    }
   ],
   "source": [
    "df.columns"
   ]
  },
  {
   "cell_type": "code",
   "execution_count": 104,
   "id": "580cbc83",
   "metadata": {},
   "outputs": [
    {
     "name": "stdout",
     "output_type": "stream",
     "text": [
      "The biggest house is located at this address: Sevilla la Nueva and has this much room: 249000.0\n",
      "The smallest house is located at Calle Amparo,  Madrid Capital with an area of 15.0 square meters\n"
     ]
    }
   ],
   "source": [
    "# TODO\n",
    "\n",
    "max_area_index = df['surface'].idxmax()\n",
    "\n",
    "print(f\"The biggest house is located at this address: \\\n",
    "{df['address'][max_area_index]} and has this much room: {df['surface'][max_area_index]}\")\n",
    "\n",
    "min_surface_index = df[df['surface'] != 0]['surface'].idxmin()\n",
    "\n",
    "print(f\"The smallest house is located at {df['address'][min_surface_index]} \\\n",
    "with an area of {df['surface'][min_surface_index]} square meters\")"
   ]
  },
  {
   "cell_type": "markdown",
   "id": "c92af6da",
   "metadata": {},
   "source": [
    "#### Exercise 04. How many unique populations are in the dataset? (★☆☆)\n",
    "\n",
    "Count the number of unique populations in the 'level5' column and print the names of the populations separated by commas. For example:\n",
    "\n",
    "`> print(populations)`\n",
    "\n",
    "`population1, population2, population3, ...`"
   ]
  },
  {
   "cell_type": "code",
   "execution_count": 109,
   "id": "07ef25bb",
   "metadata": {},
   "outputs": [
    {
     "name": "stdout",
     "output_type": "stream",
     "text": [
      "168\n",
      "['Arganda del Rey' 'Fuenlabrada' 'Boadilla del Monte'\n",
      " 'Las Rozas de Madrid' ' Madrid Capital' 'Villaviciosa de Odón' 'Pinto'\n",
      " 'Valdemoro' 'Navalcarnero' 'Pozuelo de Alarcón' 'Torrejón de Ardoz'\n",
      " 'Navalagamella' 'San Sebastián de los Reyes' 'Rivas-vaciamadrid'\n",
      " 'Alpedrete' 'Móstoles' 'San Fernando de Henares' 'Coslada'\n",
      " 'Becerril de la Sierra' 'Alcalá de Henares' 'Chinchón' 'Parla' 'Alcorcón'\n",
      " 'El Escorial' 'Leganés' 'Pedrezuela' 'Majadahonda'\n",
      " 'Villanueva de la Cañada' 'Villanueva del Pardillo' 'Torrelodones'\n",
      " 'Moralzarzal' 'Mejorada del Campo' 'Aranjuez' 'Corpa' 'Getafe'\n",
      " 'Velilla de San Antonio' 'Sevilla la Nueva' 'San Martín de la Vega'\n",
      " 'Villalbilla' 'Collado Villalba' 'Alcobendas' 'El Molar (Madrid)'\n",
      " 'Moraleja de Enmedio' 'Algete' 'Campo Real' 'Torrejón de la Calzada'\n",
      " 'Colmenar Viejo' 'Valdemorillo' 'Fuente El Saz de Jarama' 'Tres Cantos'\n",
      " 'Arroyomolinos (Madrid)' 'Griñón' 'Paracuellos de Jarama' 'Guadarrama'\n",
      " 'Titulcia' 'Galapagar' 'Collado Mediano' 'Los Molinos'\n",
      " 'San Lorenzo de El Escorial' 'Loeches' 'San Martín de Valdeiglesias'\n",
      " 'Navas del Rey' 'Bustarviejo' 'Manzanares El Real' 'Carabaña'\n",
      " 'Casarrubuelos' 'Cercedilla' 'Fresnedillas de la Oliva' 'Valdemaqueda'\n",
      " 'Robledo de Chavela' 'Miraflores de la Sierra' 'Humanes de Madrid'\n",
      " 'Valdetorres de Jarama' 'San Agustín del Guadalix' 'Ciempozuelos'\n",
      " 'Camarma de Esteruelas' 'Torres de la Alameda' 'Talamanca de Jarama'\n",
      " 'El Atazar' 'Hoyo de Manzanares' 'El Boalo - Cerceda – Mataelpino'\n",
      " 'El Álamo' 'Valdilecha' 'Valdeolmos-Alalpardo' 'Guadalix de la Sierra'\n",
      " 'Belmonte de Tajo' 'El Vellón' 'Brunete' 'Redueña' 'Morata de Tajuña'\n",
      " 'Tielmes' 'Gargantilla del Lozoya' 'Meco' 'Venturada' 'Quijorna'\n",
      " 'Cenicientos' 'Torrejón de Velasco' 'Navacerrada'\n",
      " 'Santa María de la Alameda' 'Orusco de Tajuña' 'Daganzo de Arriba'\n",
      " 'Villamanta' 'Anchuelo' 'Valdaracete' 'Ajalvir' 'Los Santos de la Humosa'\n",
      " 'Villamanrique de Tajo' 'Colmenar de Oreja' 'Villa del Prado'\n",
      " 'Fuentidueña de Tajo' 'Colmenar del Arroyo' 'Valdelaguna'\n",
      " 'Cubas de la Sagra' 'Valdeavero' 'Aldea del Fresno' 'Ribatejada'\n",
      " 'Torrelaguna' 'Batres' 'Pezuela de las Torres' 'Colmenarejo'\n",
      " 'Serranillos del Valle' 'Cobeña' 'Soto del Real' 'El Berrueco'\n",
      " 'Villanueva de Perales' 'Fresno de Torote - Serracines' 'Pozuelo del Rey'\n",
      " 'Pelayos de la Presa' 'La Cabrera' 'Nuevo Baztán' 'Perales de Tajuña'\n",
      " 'Villaconejos' 'Villarejo de Salvanés' 'Cadalso de los Vidrios'\n",
      " 'Santorcaz' 'Madarcos' 'Garganta de los Montes' 'Puentes Viejas'\n",
      " 'Torremocha de Jarama' 'Valdemanco' 'Braojos'\n",
      " 'Lozoyuela-navas-sieteiglesias' 'Piñuécar-gandullas' 'Valdepiélagos'\n",
      " 'Valverde de Alcalá' 'Villar del Olmo' 'Villamantilla'\n",
      " 'Horcajo de la Sierra' 'Gascones' 'Zarzalejo' 'Villavieja del Lozoya'\n",
      " 'Brea de Tajo' 'Estremera' 'Chapinería' 'Navarredonda' 'Patones' 'Ambite'\n",
      " 'Navalafuente' 'Lozoya' 'Canencia' 'Cabanillas de la Sierra'\n",
      " 'Buitrago del Lozoya' 'Fresno de Torote' 'Robregordo' 'Pinilla del Valle'\n",
      " 'Rascafría' 'La Hiruela' 'Montejo de la Sierra']\n"
     ]
    }
   ],
   "source": [
    "# TODO\n",
    "print(df['level5'].nunique())\n",
    "print(df['level5'].unique())"
   ]
  },
  {
   "cell_type": "markdown",
   "id": "08fda078",
   "metadata": {},
   "source": [
    "#### Exercise 05. Does the dataset contain null values (NAs)? (★☆☆)\n",
    "\n",
    "Print a boolean (`True` or `False`) to check if there are null values, followed by the columns that contain NAs."
   ]
  },
  {
   "cell_type": "code",
   "execution_count": 126,
   "id": "7eb98e35",
   "metadata": {},
   "outputs": [
    {
     "data": {
      "text/plain": [
       "np.int64(10)"
      ]
     },
     "execution_count": 126,
     "metadata": {},
     "output_type": "execute_result"
    }
   ],
   "source": [
    "# TODO\n",
    "\"\"\"if df.isna().sum().sum() > 0:\n",
    "    print(True)\n",
    "else:\n",
    "    print(False)\"\"\"\n",
    "\n",
    "df['realEstate_name'].isna().sum()"
   ]
  },
  {
   "cell_type": "code",
   "execution_count": 128,
   "id": "4612935e",
   "metadata": {},
   "outputs": [
    {
     "name": "stdout",
     "output_type": "stream",
     "text": [
      "Column realEstate_name has 10 null value(s)\n",
      "Column phone_realEstate has 794 null value(s)\n",
      "Column rooms has 353 null value(s)\n",
      "Column bathrooms has 345 null value(s)\n",
      "Column surface has 1250 null value(s)\n",
      "Column description has 142 null value(s)\n",
      "Column level4 has 6643 null value(s)\n",
      "Column level6 has 14627 null value(s)\n",
      "Column level7 has 2277 null value(s)\n",
      "Column level8 has 8579 null value(s)\n",
      "Column zipCode has 15335 null value(s)\n",
      "Column customZone has 15335 null value(s)\n"
     ]
    }
   ],
   "source": [
    "for col in df.columns:\n",
    "    if df[col].isna().sum() > 0:\n",
    "        print(f\"Column {col} has {df[col].isna().sum()} null value(s)\")"
   ]
  },
  {
   "cell_type": "markdown",
   "id": "a8b31e50",
   "metadata": {},
   "source": [
    "#### Exercise 06. Remove the null values (NAs) from the dataset, if applicable (★★☆)\n",
    "\n",
    "After removing the null values, compare the size of the DataFrame before and after the removal."
   ]
  },
  {
   "cell_type": "code",
   "execution_count": 142,
   "id": "9f174338",
   "metadata": {},
   "outputs": [
    {
     "data": {
      "text/plain": [
       "(15335, 34)"
      ]
     },
     "execution_count": 142,
     "metadata": {},
     "output_type": "execute_result"
    }
   ],
   "source": [
    "# TODO\n",
    "df.dropna(axis=1, thresh=5000).shape\n"
   ]
  },
  {
   "cell_type": "markdown",
   "id": "71fd820e",
   "metadata": {},
   "source": [
    "#### Exercise 07. What is the average price in the population of \"Arroyomolinos (Madrid)\"? (★★☆)\n",
    "\n",
    "Print the value obtained from the 'level5' column."
   ]
  },
  {
   "cell_type": "code",
   "execution_count": 159,
   "id": "2a495ff1",
   "metadata": {},
   "outputs": [
    {
     "name": "stdout",
     "output_type": "stream",
     "text": [
      "The average price is: 294541.6\n"
     ]
    }
   ],
   "source": [
    "# TODO\n",
    "print(f\"The average price is: {round(df[df['level5']=='Arroyomolinos (Madrid)']['price'].mean(), 2)}\")\n",
    "\n"
   ]
  },
  {
   "cell_type": "code",
   "execution_count": 152,
   "id": "a3398b54",
   "metadata": {},
   "outputs": [
    {
     "name": "stdout",
     "output_type": "stream",
     "text": [
      "294541.60\n"
     ]
    }
   ],
   "source": [
    "arroyomolinos_madrid = df[df.isin(['Arroyomolinos (Madrid)']).any(axis=1)]\n",
    "avg_price_arroyo_madrid = arroyomolinos_madrid['price'].mean()\n",
    "print(f'{avg_price_arroyo_madrid:.2f}')"
   ]
  },
  {
   "cell_type": "markdown",
   "id": "75911380",
   "metadata": {},
   "source": [
    "#### Exercise 08. Plot the histogram of prices for the population of \"Arroyomolinos (Madrid)\" and explain what you observe (★★☆)\n",
    "\n",
    "Print the histogram of the prices and write a brief analysis of the plot in the Markdown cell."
   ]
  },
  {
   "cell_type": "code",
   "execution_count": 164,
   "id": "561cd29a",
   "metadata": {},
   "outputs": [],
   "source": [
    "arroyo_prices = df[df['level5'] == 'Arroyomolinos (Madrid)']['price']"
   ]
  },
  {
   "cell_type": "code",
   "execution_count": 165,
   "id": "85e52dc0",
   "metadata": {},
   "outputs": [
    {
     "data": {
      "text/plain": [
       "pandas.core.series.Series"
      ]
     },
     "execution_count": 165,
     "metadata": {},
     "output_type": "execute_result"
    }
   ],
   "source": [
    "type(arroyo_prices)"
   ]
  },
  {
   "cell_type": "code",
   "execution_count": null,
   "id": "2f2a597c",
   "metadata": {},
   "outputs": [],
   "source": []
  },
  {
   "cell_type": "markdown",
   "id": "ca6a5810",
   "metadata": {},
   "source": []
  },
  {
   "cell_type": "code",
   "execution_count": 166,
   "id": "070c7ed3",
   "metadata": {},
   "outputs": [],
   "source": [
    "import matplotlib.pyplot as plt\n",
    "\n",
    "# Plot the histogram of prices"
   ]
  },
  {
   "cell_type": "code",
   "execution_count": 173,
   "id": "0aa4dd7d",
   "metadata": {},
   "outputs": [
    {
     "data": {
      "text/plain": [
       "<Axes: ylabel='Frequency'>"
      ]
     },
     "execution_count": 173,
     "metadata": {},
     "output_type": "execute_result"
    },
    {
     "data": {
      "image/png": "[encoded data removed]",
      "text/plain": [
       "<Figure size 600x300 with 1 Axes>"
      ]
     },
     "metadata": {},
     "output_type": "display_data"
    }
   ],
   "source": [
    "plt.figure(figsize=(6,3))\n",
    "\n",
    "arroyo_prices.plot(kind='hist', bins = 25)"
   ]
  },
  {
   "cell_type": "code",
   "execution_count": 179,
   "id": "7fc50225",
   "metadata": {},
   "outputs": [
    {
     "data": {
      "text/plain": [
       "(array([ 2.,  0.,  0.,  0.,  0.,  3., 10., 21., 12., 21., 13., 20., 19.,\n",
       "         9.,  2.,  1.,  1.,  1.,  1.,  1.]),\n",
       " array([     0.,  29000.,  58000.,  87000., 116000., 145000., 174000.,\n",
       "        203000., 232000., 261000., 290000., 319000., 348000., 377000.,\n",
       "        406000., 435000., 464000., 493000., 522000., 551000., 580000.]),\n",
       " <BarContainer object of 20 artists>)"
      ]
     },
     "execution_count": 179,
     "metadata": {},
     "output_type": "execute_result"
    },
    {
     "data": {
      "image/png": "[encoded data removed]",
      "text/plain": [
       "<Figure size 640x480 with 1 Axes>"
      ]
     },
     "metadata": {},
     "output_type": "display_data"
    }
   ],
   "source": [
    "plt.hist(x=arroyo_prices, bins = 20)\n"
   ]
  },
  {
   "cell_type": "code",
   "execution_count": 180,
   "id": "83184c3e",
   "metadata": {},
   "outputs": [],
   "source": [
    "import seaborn as sns"
   ]
  },
  {
   "cell_type": "code",
   "execution_count": 191,
   "id": "af73c9fe",
   "metadata": {},
   "outputs": [
    {
     "data": {
      "text/plain": [
       "<Axes: xlabel='price', ylabel='Count'>"
      ]
     },
     "execution_count": 191,
     "metadata": {},
     "output_type": "execute_result"
    },
    {
     "data": {
      "image/png": "[encoded data removed]",
      "text/plain": [
       "<Figure size 600x300 with 1 Axes>"
      ]
     },
     "metadata": {},
     "output_type": "display_data"
    }
   ],
   "source": [
    "plt.figure(figsize=(6,3))\n",
    "sns.histplot(data=arroyo_prices, binwidth=20000)"
   ]
  },
  {
   "cell_type": "code",
   "execution_count": 188,
   "id": "9db3efdf",
   "metadata": {},
   "outputs": [
    {
     "data": {
      "text/plain": [
       "np.float64(23200.0)"
      ]
     },
     "execution_count": 188,
     "metadata": {},
     "output_type": "execute_result"
    }
   ],
   "source": [
    "(arroyo_prices.max() - arroyo_prices.min()) / 25"
   ]
  },
  {
   "cell_type": "code",
   "execution_count": null,
   "id": "37867c5e",
   "metadata": {},
   "outputs": [],
   "source": []
  }
 ],
 "metadata": {
  "kernelspec": {
   "display_name": "Python 3",
   "language": "python",
   "name": "python3"
  },
  "language_info": {
   "codemirror_mode": {
    "name": "ipython",
    "version": 3
   },
   "file_extension": ".py",
   "mimetype": "text/x-python",
   "name": "python",
   "nbconvert_exporter": "python",
   "pygments_lexer": "ipython3",
   "version": "3.11.4"
  }
 },
 "nbformat": 4,
 "nbformat_minor": 5
}
